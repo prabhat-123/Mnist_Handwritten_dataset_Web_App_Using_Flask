{
  "nbformat": 4,
  "nbformat_minor": 0,
  "metadata": {
    "colab": {
      "name": "MNIST_Using_Keras_And_Tensorflow.ipynb",
      "provenance": [],
      "collapsed_sections": [],
      "toc_visible": true
    },
    "kernelspec": {
      "name": "python2",
      "display_name": "Python 2"
    },
    "accelerator": "GPU"
  },
  "cells": [
    {
      "cell_type": "markdown",
      "metadata": {
        "id": "LxjUOqbicMOa",
        "colab_type": "text"
      },
      "source": [
        "<h1>MNIST Classification using CNNs</h1>\n",
        "\n",
        "---\n",
        "\n"
      ]
    },
    {
      "cell_type": "markdown",
      "metadata": {
        "id": "GTQlTR2Scks4",
        "colab_type": "text"
      },
      "source": [
        "# Importing Keras Modules\n"
      ]
    },
    {
      "cell_type": "code",
      "metadata": {
        "id": "1ve46hnH315r",
        "colab_type": "code",
        "outputId": "52c543c2-ac9d-4182-d450-1cd3d9ab435a",
        "colab": {
          "base_uri": "https://localhost:8080/",
          "height": 462
        }
      },
      "source": [
        "#Importing important modules\n",
        "from tensorflow.keras.datasets import mnist\n",
        "from tensorflow.keras.models import Sequential\n",
        "from tensorflow.keras.layers import Dense, Dropout, Flatten\n",
        "from tensorflow.keras.layers import Conv2D, MaxPooling2D\n",
        "from tensorflow.keras.callbacks import ModelCheckpoint, EarlyStopping\n",
        "#Installing Tensorboard\n",
        "!pip install Tensorboard"
      ],
      "execution_count": 1,
      "outputs": [
        {
          "output_type": "stream",
          "text": [
            "Requirement already satisfied: Tensorboard in /usr/local/lib/python2.7/dist-packages (2.1.0)\n",
            "Requirement already satisfied: protobuf>=3.6.0 in /usr/local/lib/python2.7/dist-packages (from Tensorboard) (3.8.0)\n",
            "Requirement already satisfied: setuptools>=41.0.0 in /usr/local/lib/python2.7/dist-packages (from Tensorboard) (44.1.0)\n",
            "Requirement already satisfied: google-auth-oauthlib<0.5,>=0.4.1 in /usr/local/lib/python2.7/dist-packages (from Tensorboard) (0.4.1)\n",
            "Requirement already satisfied: futures>=3.1.1; python_version < \"3\" in /usr/local/lib/python2.7/dist-packages (from Tensorboard) (3.2.0)\n",
            "Requirement already satisfied: werkzeug>=0.11.15 in /usr/local/lib/python2.7/dist-packages (from Tensorboard) (0.15.5)\n",
            "Requirement already satisfied: absl-py>=0.4 in /usr/local/lib/python2.7/dist-packages (from Tensorboard) (0.7.1)\n",
            "Requirement already satisfied: wheel; python_version < \"3\" in /usr/local/lib/python2.7/dist-packages (from Tensorboard) (0.34.2)\n",
            "Requirement already satisfied: six>=1.10.0 in /usr/local/lib/python2.7/dist-packages (from Tensorboard) (1.12.0)\n",
            "Requirement already satisfied: numpy>=1.12.0 in /usr/local/lib/python2.7/dist-packages (from Tensorboard) (1.16.4)\n",
            "Requirement already satisfied: grpcio>=1.24.3 in /usr/local/lib/python2.7/dist-packages (from Tensorboard) (1.29.0)\n",
            "Requirement already satisfied: google-auth<2,>=1.6.3 in /usr/local/lib/python2.7/dist-packages (from Tensorboard) (1.7.2)\n",
            "Requirement already satisfied: requests<3,>=2.21.0 in /usr/local/lib/python2.7/dist-packages (from Tensorboard) (2.23.0)\n",
            "Requirement already satisfied: markdown>=2.6.8 in /usr/local/lib/python2.7/dist-packages (from Tensorboard) (3.1.1)\n",
            "Requirement already satisfied: requests-oauthlib>=0.7.0 in /usr/local/lib/python2.7/dist-packages (from google-auth-oauthlib<0.5,>=0.4.1->Tensorboard) (1.2.0)\n",
            "Requirement already satisfied: enum34; python_version < \"3.4\" in /usr/local/lib/python2.7/dist-packages (from absl-py>=0.4->Tensorboard) (1.1.6)\n",
            "Requirement already satisfied: pyasn1-modules>=0.2.1 in /usr/local/lib/python2.7/dist-packages (from google-auth<2,>=1.6.3->Tensorboard) (0.2.5)\n",
            "Requirement already satisfied: cachetools<3.2,>=2.0.0 in /usr/local/lib/python2.7/dist-packages (from google-auth<2,>=1.6.3->Tensorboard) (3.1.1)\n",
            "Requirement already satisfied: rsa<4.1,>=3.1.4 in /usr/local/lib/python2.7/dist-packages (from google-auth<2,>=1.6.3->Tensorboard) (4.0)\n",
            "Requirement already satisfied: urllib3!=1.25.0,!=1.25.1,<1.26,>=1.21.1 in /usr/local/lib/python2.7/dist-packages (from requests<3,>=2.21.0->Tensorboard) (1.24.3)\n",
            "Requirement already satisfied: chardet<4,>=3.0.2 in /usr/local/lib/python2.7/dist-packages (from requests<3,>=2.21.0->Tensorboard) (3.0.4)\n",
            "Requirement already satisfied: certifi>=2017.4.17 in /usr/local/lib/python2.7/dist-packages (from requests<3,>=2.21.0->Tensorboard) (2019.6.16)\n",
            "Requirement already satisfied: idna<3,>=2.5 in /usr/local/lib/python2.7/dist-packages (from requests<3,>=2.21.0->Tensorboard) (2.8)\n",
            "Requirement already satisfied: oauthlib>=3.0.0 in /usr/local/lib/python2.7/dist-packages (from requests-oauthlib>=0.7.0->google-auth-oauthlib<0.5,>=0.4.1->Tensorboard) (3.0.2)\n",
            "Requirement already satisfied: pyasn1<0.5.0,>=0.4.1 in /usr/local/lib/python2.7/dist-packages (from pyasn1-modules>=0.2.1->google-auth<2,>=1.6.3->Tensorboard) (0.4.5)\n"
          ],
          "name": "stdout"
        }
      ]
    },
    {
      "cell_type": "markdown",
      "metadata": {
        "id": "OKVkkLaLdPGU",
        "colab_type": "text"
      },
      "source": [
        "# Loading the Dataset"
      ]
    },
    {
      "cell_type": "markdown",
      "metadata": {
        "id": "JK0ZRJoxhrFe",
        "colab_type": "text"
      },
      "source": [
        "<h3>Download train and test sets of  MNIST dataset</h3>"
      ]
    },
    {
      "cell_type": "code",
      "metadata": {
        "id": "Jv3nQR9L4WE2",
        "colab_type": "code",
        "outputId": "807b2aa1-1099-4ff0-d0c4-1d70c29ebb8a",
        "colab": {
          "base_uri": "https://localhost:8080/",
          "height": 68
        }
      },
      "source": [
        "# the data, split between train and test sets\n",
        "(x_train, y_train), (x_test, y_test) = mnist.load_data()"
      ],
      "execution_count": 2,
      "outputs": [
        {
          "output_type": "stream",
          "text": [
            "Downloading data from https://storage.googleapis.com/tensorflow/tf-keras-datasets/mnist.npz\n",
            "11493376/11490434 [==============================] - 0s 0us/step\n",
            "11501568/11490434 [==============================] - 0s 0us/step\n"
          ],
          "name": "stdout"
        }
      ]
    },
    {
      "cell_type": "markdown",
      "metadata": {
        "id": "PEcVz-OotHWM",
        "colab_type": "text"
      },
      "source": [
        "<h4>Visualizing the dataset</h4>"
      ]
    },
    {
      "cell_type": "code",
      "metadata": {
        "id": "dqpGua7ZqUdV",
        "colab_type": "code",
        "outputId": "e764a706-8a4f-45cc-bdcb-f44f09388acd",
        "colab": {
          "base_uri": "https://localhost:8080/",
          "height": 486
        }
      },
      "source": [
        "%matplotlib inline\n",
        "\n",
        "import matplotlib.pyplot as plt\n",
        "w=10\n",
        "h=10\n",
        "fig=plt.figure(figsize=(8, 8))\n",
        "columns = 10\n",
        "rows = 10\n",
        "for i in range(1, columns*rows +1):\n",
        "    img = x_test[i]\n",
        "    fig.add_subplot(rows, columns, i)\n",
        "    plt.imshow(img, cmap='gray')\n",
        "plt.show()"
      ],
      "execution_count": 3,
      "outputs": [
        {
          "output_type": "display_data",
          "data": {
            "image/png": "[encoded data removed]",
            "text/plain": [
              "<Figure size 576x576 with 100 Axes>"
            ]
          },
          "metadata": {
            "tags": [],
            "needs_background": "light"
          }
        }
      ]
    },
    {
      "cell_type": "markdown",
      "metadata": {
        "id": "0D29eowNhmU8",
        "colab_type": "text"
      },
      "source": [
        "<h3>Reshape train and test sets into shapes compatible with keras models</h3>\n",
        "\n",
        "<h4>Keras expects data to be in the format (N_E.N_H,N_W,N_C)  N_E = Number of Examples, N_H = height, N_W = Width, N_C = Number of Channels.</h4>\n"
      ]
    },
    {
      "cell_type": "code",
      "metadata": {
        "id": "KYCYajiwdozQ",
        "colab_type": "code",
        "colab": {}
      },
      "source": [
        "# input image dimensions\n",
        "img_rows, img_cols = 28, 28\n",
        "\n",
        "#Keras expects data to be in the format (N_E.N_H,N_W,N_C)\n",
        "#N_E = Number of Examples, N_H = height, N_W = Width, N_C = Number of Channels.\n",
        "x_train = x_train.reshape(x_train.shape[0], img_rows, img_cols, 1)\n",
        "x_test = x_test.reshape(x_test.shape[0], img_rows, img_cols, 1)\n",
        "input_shape = (img_rows, img_cols, 1)"
      ],
      "execution_count": 0,
      "outputs": []
    },
    {
      "cell_type": "markdown",
      "metadata": {
        "id": "kMGQuoyNiqmL",
        "colab_type": "text"
      },
      "source": [
        "<h3>Pre-processing the dataset</h3>\n",
        "<h4>Normalizing the input</h4>"
      ]
    },
    {
      "cell_type": "code",
      "metadata": {
        "id": "M1kXqqfV4d_b",
        "colab_type": "code",
        "outputId": "0a641d8a-3050-4f3a-a613-ea03fa38559b",
        "colab": {
          "base_uri": "https://localhost:8080/",
          "height": 68
        }
      },
      "source": [
        "x_train = x_train.astype('float32')\n",
        "x_test = x_test.astype('float32')\n",
        "\n",
        "#Normalizing the input\n",
        "x_train /= 255.0\n",
        "x_test /= 255.0\n",
        "print('x_train shape:', x_train.shape)\n",
        "print(x_train.shape[0], 'train samples')\n",
        "print(x_test.shape[0], 'test samples')"
      ],
      "execution_count": 5,
      "outputs": [
        {
          "output_type": "stream",
          "text": [
            "('x_train shape:', (60000, 28, 28, 1))\n",
            "(60000, 'train samples')\n",
            "(10000, 'test samples')\n"
          ],
          "name": "stdout"
        }
      ]
    },
    {
      "cell_type": "code",
      "metadata": {
        "id": "nlJ0ogZ4dG3G",
        "colab_type": "code",
        "colab": {}
      },
      "source": [
        "batch_size = 128\n",
        "num_classes = 10\n",
        "epochs = 25"
      ],
      "execution_count": 0,
      "outputs": []
    },
    {
      "cell_type": "code",
      "metadata": {
        "id": "qX8CdMUs5qvO",
        "colab_type": "code",
        "outputId": "69fc8e6d-a769-416f-c8c2-a109af163cd4",
        "colab": {
          "base_uri": "https://localhost:8080/",
          "height": 34
        }
      },
      "source": [
        "print(y_train[0])"
      ],
      "execution_count": 8,
      "outputs": [
        {
          "output_type": "stream",
          "text": [
            "5\n"
          ],
          "name": "stdout"
        }
      ]
    },
    {
      "cell_type": "markdown",
      "metadata": {
        "id": "N8TE7MoZi_w7",
        "colab_type": "text"
      },
      "source": [
        "<h4>Convert Labels from digits to one hot vectors</h4>"
      ]
    },
    {
      "cell_type": "code",
      "metadata": {
        "id": "cqh-cVtT4ijU",
        "colab_type": "code",
        "colab": {}
      },
      "source": [
        "# convert class vectors to binary class matrices\n",
        "from tensorflow.keras.utils import to_categorical\n",
        "y_train = to_categorical(y_train, num_classes)\n",
        "y_test = to_categorical(y_test, num_classes)"
      ],
      "execution_count": 0,
      "outputs": []
    },
    {
      "cell_type": "code",
      "metadata": {
        "id": "yMfUrCYO5VeA",
        "colab_type": "code",
        "outputId": "23901dc5-24fb-4251-e36e-e424a4ed3168",
        "colab": {
          "base_uri": "https://localhost:8080/",
          "height": 34
        }
      },
      "source": [
        "print(y_train[0])"
      ],
      "execution_count": 11,
      "outputs": [
        {
          "output_type": "stream",
          "text": [
            "[0. 0. 0. 0. 0. 1. 0. 0. 0. 0.]\n"
          ],
          "name": "stdout"
        }
      ]
    },
    {
      "cell_type": "markdown",
      "metadata": {
        "id": "QV4R9IbjjOVT",
        "colab_type": "text"
      },
      "source": [
        "# Building the CNN \n",
        "\n",
        "<h4>Define the layers of model</h4>"
      ]
    },
    {
      "cell_type": "code",
      "metadata": {
        "id": "7sse4G5d4lpY",
        "colab_type": "code",
        "colab": {}
      },
      "source": [
        "#Initialize the model\n",
        "model = Sequential()\n",
        "\n",
        "#Add a Convolutional Layer with 32 filters of size 3X3 and activation function as 'ReLU' \n",
        "model.add(Conv2D(32, kernel_size=(3, 3),\n",
        "                 activation='relu',\n",
        "                 input_shape=input_shape))\n",
        "\n",
        "#Add a Convolutional Layer with 64 filters of size 3X3 and activation function as 'ReLU' \n",
        "model.add(Conv2D(64, (3, 3), activation='relu'))\n",
        "\n",
        "#Add a MaxPooling Layer of size 2X2 \n",
        "model.add(MaxPooling2D(pool_size=(2, 2)))\n",
        "\n",
        "#Apply Dropout with 0.25 probability \n",
        "model.add(Dropout(0.25))\n",
        "\n",
        "#Flatten the layer\n",
        "model.add(Flatten())\n",
        "\n",
        "#Add Fully Connected Layer with 128 units and activation function as 'ReLU'\n",
        "model.add(Dense(128, activation='relu'))\n",
        "\n",
        "#Apply Dropout with 0.5 probability \n",
        "model.add(Dropout(0.5))\n",
        "\n",
        "#Add Fully Connected Layer with 10 units and activation function as 'softmax'\n",
        "model.add(Dense(num_classes, activation='softmax'))"
      ],
      "execution_count": 0,
      "outputs": []
    },
    {
      "cell_type": "markdown",
      "metadata": {
        "id": "iDYmge-AlJTX",
        "colab_type": "text"
      },
      "source": [
        "<h4>Setting Optimizer and Loss function for training</h4>"
      ]
    },
    {
      "cell_type": "code",
      "metadata": {
        "id": "W-y6cZaL4p6R",
        "colab_type": "code",
        "colab": {}
      },
      "source": [
        "from tensorflow.keras.optimizers import Adam\n",
        "from tensorflow.keras.losses import categorical_crossentropy\n",
        "\n",
        "#To use adam optimizer for learning weights with learning rate = 0.001\n",
        "optimizer = Adam(lr=0.001)\n",
        "#Set the loss function and optimizer for the model training\n",
        "model.compile(loss=categorical_crossentropy,\n",
        "              optimizer=optimizer,\n",
        "              metrics=['accuracy'])"
      ],
      "execution_count": 0,
      "outputs": []
    },
    {
      "cell_type": "markdown",
      "metadata": {
        "id": "wVHOojpJlvVa",
        "colab_type": "text"
      },
      "source": [
        "# Training the CNN "
      ]
    },
    {
      "cell_type": "markdown",
      "metadata": {
        "id": "PF0yBjA0jkm-",
        "colab_type": "text"
      },
      "source": [
        "<h4>Initializing the Tensorboard callback for visualization of training</h4>"
      ]
    },
    {
      "cell_type": "code",
      "metadata": {
        "id": "fCysYIM2I-6f",
        "colab_type": "code",
        "colab": {}
      },
      "source": [
        "#Import tensorboard callback which will passed in model.fit function.\n",
        "from tensorflow.keras.callbacks import TensorBoard\n",
        "from time import time\n",
        "\n",
        "\n",
        "#Setting the directory to store the logs.\n",
        "tensorboard = TensorBoard(log_dir=\".logs/{}\".format(time()))\n"
      ],
      "execution_count": 0,
      "outputs": []
    },
    {
      "cell_type": "markdown",
      "metadata": {
        "id": "Oe1YtBzrmCaL",
        "colab_type": "text"
      },
      "source": [
        "<h4>Initializing Early stopping and Model chekpoint callbacks </h4>"
      ]
    },
    {
      "cell_type": "code",
      "metadata": {
        "id": "WJ3u9GaFl-Xl",
        "colab_type": "code",
        "colab": {
          "base_uri": "https://localhost:8080/",
          "height": 54
        },
        "outputId": "836b34f6-37fa-4a0a-8199-a3a906a09eaa"
      },
      "source": [
        "#Adding Early stopping callback to the fit function is going to stop the training,\n",
        "#if the val_loss is not going to change even '0.001' for more than 10 continous epochs\n",
        "\n",
        "early_stopping = EarlyStopping(monitor='val_loss', min_delta=0.001, patience=10)\n",
        "\n",
        "#Adding Model Checkpoint callback to the fit function is going to save the weights whenever val_loss achieves a new low value. \n",
        "#Hence saving the best weights occurred during training\n",
        "\n",
        "model_checkpoint =  ModelCheckpoint('mnist_cnn_checkpoint_{epoch:02d}_loss{val_loss:.4f}.h5',\n",
        "                                                           monitor='val_loss',\n",
        "                                                           verbose=1,\n",
        "                                                           save_best_only=True,\n",
        "                                                           save_weights_only=True,\n",
        "                                                           mode='auto',\n",
        "                                                           period=1)"
      ],
      "execution_count": 20,
      "outputs": [
        {
          "output_type": "stream",
          "text": [
            "W0517 17:16:55.911530 140505463560064 callbacks.py:886] `period` argument is deprecated. Please use `save_freq` to specify the frequency in number of samples seen.\n"
          ],
          "name": "stderr"
        }
      ]
    },
    {
      "cell_type": "markdown",
      "metadata": {
        "id": "wJIhBhbDmZ8U",
        "colab_type": "text"
      },
      "source": [
        "<h4>Fit the model to the dataset</h4>"
      ]
    },
    {
      "cell_type": "code",
      "metadata": {
        "id": "QDBvTM2B4smP",
        "colab_type": "code",
        "outputId": "f4f395d1-a584-4925-812d-ae97676e4d9f",
        "colab": {
          "base_uri": "https://localhost:8080/",
          "height": 1000
        }
      },
      "source": [
        "#Training on the dataset and adding the all the callbacks to the fit function.\n",
        "#Once the training starts, results start appearing on Tensorboard after 1 epoch\n",
        "history = model.fit(x_train, y_train,\n",
        "          batch_size=batch_size,\n",
        "          epochs=epochs,\n",
        "          verbose=1,\n",
        "          validation_data=(x_test, y_test),\n",
        "          callbacks=[tensorboard,early_stopping,model_checkpoint])"
      ],
      "execution_count": 21,
      "outputs": [
        {
          "output_type": "stream",
          "text": [
            "Train on 60000 samples, validate on 10000 samples\n",
            "Epoch 1/25\n",
            "59264/60000 [============================>.] - ETA: 0s - loss: 0.2350 - accuracy: 0.9271\n",
            "Epoch 00001: val_loss improved from inf to 0.05571, saving model to mnist_cnn_checkpoint_01_loss0.0557.h5\n",
            "60000/60000 [==============================] - 5s 89us/sample - loss: 0.2336 - accuracy: 0.9276 - val_loss: 0.0557 - val_accuracy: 0.9814\n",
            "Epoch 2/25\n",
            "59264/60000 [============================>.] - ETA: 0s - loss: 0.0849 - accuracy: 0.9743\n",
            "Epoch 00002: val_loss improved from 0.05571 to 0.03449, saving model to mnist_cnn_checkpoint_02_loss0.0345.h5\n",
            "60000/60000 [==============================] - 5s 81us/sample - loss: 0.0848 - accuracy: 0.9743 - val_loss: 0.0345 - val_accuracy: 0.9883\n",
            "Epoch 3/25\n",
            "59264/60000 [============================>.] - ETA: 0s - loss: 0.0644 - accuracy: 0.9805\n",
            "Epoch 00003: val_loss improved from 0.03449 to 0.03104, saving model to mnist_cnn_checkpoint_03_loss0.0310.h5\n",
            "60000/60000 [==============================] - 5s 80us/sample - loss: 0.0643 - accuracy: 0.9805 - val_loss: 0.0310 - val_accuracy: 0.9894\n",
            "Epoch 4/25\n",
            "59776/60000 [============================>.] - ETA: 0s - loss: 0.0530 - accuracy: 0.9841\n",
            "Epoch 00004: val_loss did not improve from 0.03104\n",
            "60000/60000 [==============================] - 5s 81us/sample - loss: 0.0530 - accuracy: 0.9841 - val_loss: 0.0330 - val_accuracy: 0.9889\n",
            "Epoch 5/25\n",
            "59776/60000 [============================>.] - ETA: 0s - loss: 0.0454 - accuracy: 0.9859\n",
            "Epoch 00005: val_loss did not improve from 0.03104\n",
            "60000/60000 [==============================] - 5s 80us/sample - loss: 0.0453 - accuracy: 0.9859 - val_loss: 0.0317 - val_accuracy: 0.9896\n",
            "Epoch 6/25\n",
            "59904/60000 [============================>.] - ETA: 0s - loss: 0.0402 - accuracy: 0.9875\n",
            "Epoch 00006: val_loss did not improve from 0.03104\n",
            "60000/60000 [==============================] - 5s 80us/sample - loss: 0.0401 - accuracy: 0.9875 - val_loss: 0.0320 - val_accuracy: 0.9902\n",
            "Epoch 7/25\n",
            "59264/60000 [============================>.] - ETA: 0s - loss: 0.0359 - accuracy: 0.9883\n",
            "Epoch 00007: val_loss improved from 0.03104 to 0.02848, saving model to mnist_cnn_checkpoint_07_loss0.0285.h5\n",
            "60000/60000 [==============================] - 5s 80us/sample - loss: 0.0357 - accuracy: 0.9883 - val_loss: 0.0285 - val_accuracy: 0.9909\n",
            "Epoch 8/25\n",
            "59264/60000 [============================>.] - ETA: 0s - loss: 0.0320 - accuracy: 0.9891\n",
            "Epoch 00008: val_loss did not improve from 0.02848\n",
            "60000/60000 [==============================] - 5s 80us/sample - loss: 0.0319 - accuracy: 0.9891 - val_loss: 0.0314 - val_accuracy: 0.9900\n",
            "Epoch 9/25\n",
            "59776/60000 [============================>.] - ETA: 0s - loss: 0.0287 - accuracy: 0.9906\n",
            "Epoch 00009: val_loss did not improve from 0.02848\n",
            "60000/60000 [==============================] - 5s 80us/sample - loss: 0.0287 - accuracy: 0.9906 - val_loss: 0.0301 - val_accuracy: 0.9904\n",
            "Epoch 10/25\n",
            "59264/60000 [============================>.] - ETA: 0s - loss: 0.0258 - accuracy: 0.9917\n",
            "Epoch 00010: val_loss improved from 0.02848 to 0.02723, saving model to mnist_cnn_checkpoint_10_loss0.0272.h5\n",
            "60000/60000 [==============================] - 5s 79us/sample - loss: 0.0257 - accuracy: 0.9917 - val_loss: 0.0272 - val_accuracy: 0.9916\n",
            "Epoch 11/25\n",
            "59520/60000 [============================>.] - ETA: 0s - loss: 0.0251 - accuracy: 0.9916\n",
            "Epoch 00011: val_loss did not improve from 0.02723\n",
            "60000/60000 [==============================] - 5s 79us/sample - loss: 0.0251 - accuracy: 0.9916 - val_loss: 0.0328 - val_accuracy: 0.9899\n",
            "Epoch 12/25\n",
            "59904/60000 [============================>.] - ETA: 0s - loss: 0.0222 - accuracy: 0.9924\n",
            "Epoch 00012: val_loss did not improve from 0.02723\n",
            "60000/60000 [==============================] - 5s 80us/sample - loss: 0.0222 - accuracy: 0.9924 - val_loss: 0.0329 - val_accuracy: 0.9914\n",
            "Epoch 13/25\n",
            "59648/60000 [============================>.] - ETA: 0s - loss: 0.0209 - accuracy: 0.9933\n",
            "Epoch 00013: val_loss did not improve from 0.02723\n",
            "60000/60000 [==============================] - 5s 81us/sample - loss: 0.0210 - accuracy: 0.9932 - val_loss: 0.0312 - val_accuracy: 0.9920\n",
            "Epoch 14/25\n",
            "59904/60000 [============================>.] - ETA: 0s - loss: 0.0188 - accuracy: 0.9937\n",
            "Epoch 00014: val_loss did not improve from 0.02723\n",
            "60000/60000 [==============================] - 5s 80us/sample - loss: 0.0188 - accuracy: 0.9937 - val_loss: 0.0321 - val_accuracy: 0.9920\n",
            "Epoch 15/25\n",
            "59904/60000 [============================>.] - ETA: 0s - loss: 0.0185 - accuracy: 0.9937\n",
            "Epoch 00015: val_loss did not improve from 0.02723\n",
            "60000/60000 [==============================] - 5s 79us/sample - loss: 0.0186 - accuracy: 0.9937 - val_loss: 0.0307 - val_accuracy: 0.9916\n",
            "Epoch 16/25\n",
            "59904/60000 [============================>.] - ETA: 0s - loss: 0.0175 - accuracy: 0.9940\n",
            "Epoch 00016: val_loss did not improve from 0.02723\n",
            "60000/60000 [==============================] - 5s 79us/sample - loss: 0.0176 - accuracy: 0.9940 - val_loss: 0.0338 - val_accuracy: 0.9908\n",
            "Epoch 17/25\n",
            "59904/60000 [============================>.] - ETA: 0s - loss: 0.0184 - accuracy: 0.9938\n",
            "Epoch 00017: val_loss did not improve from 0.02723\n",
            "60000/60000 [==============================] - 5s 79us/sample - loss: 0.0184 - accuracy: 0.9938 - val_loss: 0.0319 - val_accuracy: 0.9922\n",
            "Epoch 18/25\n",
            "59648/60000 [============================>.] - ETA: 0s - loss: 0.0159 - accuracy: 0.9945\n",
            "Epoch 00018: val_loss did not improve from 0.02723\n",
            "60000/60000 [==============================] - 5s 79us/sample - loss: 0.0159 - accuracy: 0.9945 - val_loss: 0.0334 - val_accuracy: 0.9909\n",
            "Epoch 19/25\n",
            "59776/60000 [============================>.] - ETA: 0s - loss: 0.0148 - accuracy: 0.9950\n",
            "Epoch 00019: val_loss did not improve from 0.02723\n",
            "60000/60000 [==============================] - 5s 79us/sample - loss: 0.0148 - accuracy: 0.9950 - val_loss: 0.0370 - val_accuracy: 0.9905\n",
            "Epoch 20/25\n",
            "59520/60000 [============================>.] - ETA: 0s - loss: 0.0138 - accuracy: 0.9956\n",
            "Epoch 00020: val_loss did not improve from 0.02723\n",
            "60000/60000 [==============================] - 5s 80us/sample - loss: 0.0138 - accuracy: 0.9956 - val_loss: 0.0321 - val_accuracy: 0.9929\n"
          ],
          "name": "stdout"
        }
      ]
    },
    {
      "cell_type": "markdown",
      "metadata": {
        "id": "U3WWyAm_me96",
        "colab_type": "text"
      },
      "source": [
        "# Evaluating the CNN"
      ]
    },
    {
      "cell_type": "code",
      "metadata": {
        "id": "5XwBVeIvpU3u",
        "colab_type": "code",
        "colab": {
          "base_uri": "https://localhost:8080/",
          "height": 295
        },
        "outputId": "31bf460e-965c-478f-bf7b-4f5dc8884db2"
      },
      "source": [
        "training_loss = history.history['loss']\n",
        "validation_loss = history.history['val_loss']\n",
        "epochs = range(1,21)\n",
        "plt.plot(epochs,training_loss,'g',label='Training Loss')\n",
        "plt.plot(epochs,validation_loss,'r',label=\"Validation Loss\")\n",
        "plt.title(\"Training Vs Validation Loss\")\n",
        "plt.xlabel(\"Epochs\")\n",
        "plt.ylabel(\"Loss\")\n",
        "plt.legend()\n",
        "plt.show()"
      ],
      "execution_count": 22,
      "outputs": [
        {
          "output_type": "display_data",
          "data": {
            "image/png": "[encoded data removed]",
            "text/plain": [
              "<Figure size 432x288 with 1 Axes>"
            ]
          },
          "metadata": {
            "tags": [],
            "needs_background": "light"
          }
        }
      ]
    },
    {
      "cell_type": "code",
      "metadata": {
        "id": "FTKlFMYJqmEV",
        "colab_type": "code",
        "colab": {
          "base_uri": "https://localhost:8080/",
          "height": 295
        },
        "outputId": "5df3c3e3-8bc5-441b-85da-338a07180f71"
      },
      "source": [
        "training_accuracy = history.history['accuracy']\n",
        "validation_accuracy = history.history['val_accuracy']\n",
        "epochs = range(1,21)\n",
        "plt.plot(epochs,training_accuracy,'g',label=\"Training Accuracy\")\n",
        "plt.plot(epochs,validation_accuracy,'r',label=\"Validation Accuracy\")\n",
        "plt.title(\"Training Vs Validation Accuracy\")\n",
        "plt.xlabel(\"Epochs\")\n",
        "plt.ylabel(\"Accuracy\")\n",
        "plt.legend()\n",
        "plt.show()"
      ],
      "execution_count": 24,
      "outputs": [
        {
          "output_type": "display_data",
          "data": {
            "image/png": "[encoded data removed]",
            "text/plain": [
              "<Figure size 432x288 with 1 Axes>"
            ]
          },
          "metadata": {
            "tags": [],
            "needs_background": "light"
          }
        }
      ]
    },
    {
      "cell_type": "markdown",
      "metadata": {
        "id": "_DnRZGxSmi5C",
        "colab_type": "text"
      },
      "source": [
        "<h4>Evaluate trained model on the test set</h4>"
      ]
    },
    {
      "cell_type": "code",
      "metadata": {
        "id": "q4oZhZm34v_R",
        "colab_type": "code",
        "outputId": "45c37930-fc7c-4adb-e3f5-155e7b82c41a",
        "colab": {
          "base_uri": "https://localhost:8080/",
          "height": 68
        }
      },
      "source": [
        "#Testing the model on test set\n",
        "score = model.evaluate(x_test, y_test)\n",
        "print('Test loss:', score[0])\n",
        "print('Test accuracy:', score[1])"
      ],
      "execution_count": 25,
      "outputs": [
        {
          "output_type": "stream",
          "text": [
            "10000/10000 [==============================] - 1s 92us/sample - loss: 0.0321 - accuracy: 0.9929\n",
            "('Test loss:', 0.03209890858815745)\n",
            "('Test accuracy:', 0.9929)\n"
          ],
          "name": "stdout"
        }
      ]
    },
    {
      "cell_type": "markdown",
      "metadata": {
        "id": "tWuDdzf0rgf-",
        "colab_type": "text"
      },
      "source": [
        "<h4>Visualizing some predictions</h4>"
      ]
    },
    {
      "cell_type": "code",
      "metadata": {
        "id": "fiT52J2Gqk2D",
        "colab_type": "code",
        "outputId": "3611e2a5-3206-4af9-8269-e60f539bf913",
        "colab": {
          "base_uri": "https://localhost:8080/",
          "height": 817
        }
      },
      "source": [
        "import numpy as np\n",
        "\n",
        "plt.figure(figsize=(2,2))\n",
        "plt.imshow(x_test[3].reshape(28,28),cmap=\"gray\")\n",
        "plt.show()\n",
        "print(np.argmax(model.predict(x_test[3].reshape(1,28,28,1))))\n",
        "\n",
        "\n",
        "plt.figure(figsize=(2,2))\n",
        "plt.imshow(x_test[2].reshape(28,28),cmap=\"gray\")\n",
        "plt.show()\n",
        "print(np.argmax(model.predict(x_test[2].reshape(1,28,28,1))))\n",
        "\n",
        "\n",
        "plt.figure(figsize=(2,2))\n",
        "plt.imshow(x_test[33].reshape(28,28),cmap=\"gray\")\n",
        "plt.show()\n",
        "print(np.argmax(model.predict(x_test[33].reshape(1,28,28,1))))\n",
        "\n",
        "\n",
        "plt.figure(figsize=(2,2))\n",
        "plt.imshow(x_test[59].reshape(28,28),cmap=\"gray\")\n",
        "plt.show()\n",
        "print(np.argmax(model.predict(x_test[59].reshape(1,28,28,1))))\n",
        "\n",
        "\n",
        "plt.figure(figsize=(2,2))\n",
        "plt.imshow(x_test[36].reshape(28,28),cmap=\"gray\")\n",
        "plt.show()\n",
        "print(np.argmax(model.predict(x_test[36].reshape(1,28,28,1))))"
      ],
      "execution_count": 26,
      "outputs": [
        {
          "output_type": "display_data",
          "data": {
            "image/png": "[encoded data removed]",
            "text/plain": [
              "<Figure size 144x144 with 1 Axes>"
            ]
          },
          "metadata": {
            "tags": [],
            "needs_background": "light"
          }
        },
        {
          "output_type": "stream",
          "text": [
            "0\n"
          ],
          "name": "stdout"
        },
        {
          "output_type": "display_data",
          "data": {
            "image/png": "[encoded data removed]",
            "text/plain": [
              "<Figure size 144x144 with 1 Axes>"
            ]
          },
          "metadata": {
            "tags": [],
            "needs_background": "light"
          }
        },
        {
          "output_type": "stream",
          "text": [
            "1\n"
          ],
          "name": "stdout"
        },
        {
          "output_type": "display_data",
          "data": {
            "image/png": "[encoded data removed]",
            "text/plain": [
              "<Figure size 144x144 with 1 Axes>"
            ]
          },
          "metadata": {
            "tags": [],
            "needs_background": "light"
          }
        },
        {
          "output_type": "stream",
          "text": [
            "4\n"
          ],
          "name": "stdout"
        },
        {
          "output_type": "display_data",
          "data": {
            "image/png": "[encoded data removed]",
            "text/plain": [
              "<Figure size 144x144 with 1 Axes>"
            ]
          },
          "metadata": {
            "tags": [],
            "needs_background": "light"
          }
        },
        {
          "output_type": "stream",
          "text": [
            "5\n"
          ],
          "name": "stdout"
        },
        {
          "output_type": "display_data",
          "data": {
            "image/png": "[encoded data removed]",
            "text/plain": [
              "<Figure size 144x144 with 1 Axes>"
            ]
          },
          "metadata": {
            "tags": [],
            "needs_background": "light"
          }
        },
        {
          "output_type": "stream",
          "text": [
            "7\n"
          ],
          "name": "stdout"
        }
      ]
    },
    {
      "cell_type": "code",
      "metadata": {
        "id": "VzUxj_UNs7kz",
        "colab_type": "code",
        "colab": {
          "base_uri": "https://localhost:8080/",
          "height": 545
        },
        "outputId": "838f3b8a-ebdb-42b8-e7ce-382214c49763"
      },
      "source": [
        "import numpy as np\n",
        "fig = plt.figure(figsize=(10,10))\n",
        "row = 3\n",
        "col = 5\n",
        "for i in range(1,row*col+1):\n",
        "  fig.add_subplot(row,col,i)\n",
        "  plt.imshow(x_test[i].reshape(28,28),cmap='gray')\n",
        "  prediction = np.argmax(model.predict(x_test[i].reshape(1,28,28,1)))\n",
        "  plt.xlabel(prediction)\n",
        "\n",
        "\n",
        "plt.show()"
      ],
      "execution_count": 36,
      "outputs": [
        {
          "output_type": "display_data",
          "data": {
            "image/png": "[encoded data removed]",
            "text/plain": [
              "<Figure size 720x720 with 15 Axes>"
            ]
          },
          "metadata": {
            "tags": [],
            "needs_background": "light"
          }
        }
      ]
    },
    {
      "cell_type": "code",
      "metadata": {
        "id": "9qLiZ6drsOED",
        "colab_type": "code",
        "colab": {
          "base_uri": "https://localhost:8080/",
          "height": 122
        },
        "outputId": "ad6fe635-4688-4890-ec7c-7ab6933ec4d6"
      },
      "source": [
        "from google.colab import drive\n",
        "drive.mount('/content/gdrive')"
      ],
      "execution_count": 27,
      "outputs": [
        {
          "output_type": "stream",
          "text": [
            "Go to this URL in a browser: https://accounts.google.com/o/oauth2/auth?client_id=947318989803-6bn6qk8qdgf4n4g3pfee6491hc0brc4i.apps.googleusercontent.com&redirect_uri=urn%3aietf%3awg%3aoauth%3a2.0%3aoob&response_type=code&scope=email%20https%3a%2f%2fwww.googleapis.com%2fauth%2fdocs.test%20https%3a%2f%2fwww.googleapis.com%2fauth%2fdrive%20https%3a%2f%2fwww.googleapis.com%2fauth%2fdrive.photos.readonly%20https%3a%2f%2fwww.googleapis.com%2fauth%2fpeopleapi.readonly\n",
            "\n",
            "Enter your authorization code:\n",
            "··········\n",
            "Mounted at /content/gdrive\n"
          ],
          "name": "stdout"
        }
      ]
    },
    {
      "cell_type": "markdown",
      "metadata": {
        "id": "Fvl0nK6pmsmt",
        "colab_type": "text"
      },
      "source": [
        "# Saving the CNN"
      ]
    },
    {
      "cell_type": "markdown",
      "metadata": {
        "id": "xM4Ram-pmyPd",
        "colab_type": "text"
      },
      "source": [
        "<h4>Save the trained weights and model in h5 files</h4>"
      ]
    },
    {
      "cell_type": "code",
      "metadata": {
        "id": "fhTA0qnm85kH",
        "colab_type": "code",
        "colab": {}
      },
      "source": [
        "#Set the path where you want to store the model and weights. \n",
        "model.save_weights('/content/gdrive/My Drive/Artificial Intelligence/mnist_cnn_checkpoint_10_loss0.0272.h5')"
      ],
      "execution_count": 0,
      "outputs": []
    },
    {
      "cell_type": "code",
      "metadata": {
        "id": "aGpE3xXGxnJP",
        "colab_type": "code",
        "colab": {}
      },
      "source": [
        ""
      ],
      "execution_count": 0,
      "outputs": []
    }
  ]
}